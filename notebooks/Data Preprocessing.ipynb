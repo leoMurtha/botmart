{
 "cells": [
  {
   "cell_type": "code",
   "execution_count": 1,
   "metadata": {
    "ExecuteTime": {
     "end_time": "2021-02-28T23:29:50.282641Z",
     "start_time": "2021-02-28T23:29:50.127616Z"
    }
   },
   "outputs": [],
   "source": [
    "%load_ext autoreload\n",
    "%autoreload 2"
   ]
  },
  {
   "cell_type": "code",
   "execution_count": 2,
   "metadata": {
    "ExecuteTime": {
     "end_time": "2021-02-28T23:29:56.169088Z",
     "start_time": "2021-02-28T23:29:51.022932Z"
    }
   },
   "outputs": [],
   "source": [
    "import os\n",
    "import random\n",
    "import datetime\n",
    "import numpy as np\n",
    "import pandas as pd  \n",
    "import seaborn as sns\n",
    "from math import floor, ceil\n",
    "import seaborn as sns  # for prettier plots\n",
    "import matplotlib.style as style\n",
    "import matplotlib.pyplot as plt\n",
    "import matplotlib.dates as mdates\n",
    "import mplfinance as fplt\n",
    "from matplotlib.dates import date2num\n",
    "from joblib import Parallel, delayed\n",
    "\n",
    "from xgboost import XGBClassifier\n",
    "from lightgbm import  LGBMClassifier\n",
    "from imblearn.pipeline import Pipeline\n",
    "from imblearn.over_sampling import SMOTE\n",
    "\n",
    "\n",
    "from sklearn.model_selection import TimeSeriesSplit, GridSearchCV, RandomizedSearchCV\n",
    "from sklearn.metrics import plot_confusion_matrix, classification_report, plot_precision_recall_curve, roc_auc_score\n",
    "\n",
    "from tsfresh import extract_relevant_features\n",
    "import sktime"
   ]
  },
  {
   "cell_type": "code",
   "execution_count": 3,
   "metadata": {
    "ExecuteTime": {
     "end_time": "2021-02-28T23:29:56.690126Z",
     "start_time": "2021-02-28T23:29:56.172529Z"
    }
   },
   "outputs": [],
   "source": [
    "df = pd.read_csv('../data/WIN$NM5_DF.csv', parse_dates=['Date'], header=0, names=['Date', 'Open', 'High', 'Low', 'Close'])"
   ]
  },
  {
   "cell_type": "code",
   "execution_count": 5,
   "metadata": {
    "ExecuteTime": {
     "end_time": "2021-02-28T23:33:51.464814Z",
     "start_time": "2021-02-28T23:30:38.877350Z"
    },
    "code_folding": []
   },
   "outputs": [
    {
     "name": "stdout",
     "output_type": "stream",
     "text": [
      "Processing time series with init shape of (100028, 5)\n",
      "TS was processed and now has the final shape of (92619, 30)\n"
     ]
    }
   ],
   "source": [
    "class Bot:\n",
    "    def __init__(self, data, candles, expiration, stoploss, takeprofit):\n",
    "        self.raw_ts = data\n",
    "        self.stoploss=stoploss\n",
    "        self.takeprofit=takeprofit\n",
    "        self.candles=candles\n",
    "        self.expiration=expiration\n",
    "        self.processed_ts = pd.DataFrame()\n",
    "        \n",
    "    def check_tkp_stp(self, idx, ts_length, closes, first_open, unique_dates, stoploss, takeprofit):\n",
    "        # expirated\n",
    "        y = 0\n",
    "        \n",
    "        if idx + self.expiration-1 >= ts_length:\n",
    "            return np.nan\n",
    "        # GAP\n",
    "        if unique_dates > 1:\n",
    "            return np.nan\n",
    "                \n",
    "        closes = (closes-first_open)/first_open\n",
    "        \n",
    "        for close in closes:\n",
    "            if close < 0 and abs(close) >= stoploss:\n",
    "                y = 0\n",
    "                break\n",
    "            elif close > 0 and close >= takeprofit:\n",
    "                y = 1\n",
    "                break\n",
    "                \n",
    "        return y\n",
    "\n",
    "    def create_output(self, ts, window, stoploss, takeprofit):\n",
    "        #output = [np.nan]*ts.shape[0]\n",
    "        \n",
    "        executor = Parallel(n_jobs=os.cpu_count(), batch_size=128)\n",
    "        tasks = (delayed(self.check_tkp_stp)(idx, ts.shape[0], \n",
    "                                        closes=ts.loc[idx:idx+window-1, 'Close'], \n",
    "                                        unique_dates=ts.loc[idx:idx+window-1, 'Date'].dt.strftime('%Y-%m-%d').nunique(), \n",
    "                                        first_open=ts['Open'].iloc[idx], \n",
    "                                        stoploss=stoploss, takeprofit=takeprofit) for idx in ts.index)\n",
    "        output = executor(tasks)\n",
    "        \n",
    "        return output\n",
    "\n",
    "    def treat_candle_gaps(self, ts):\n",
    "        ts = ts.dropna(axis=0).reset_index(drop=True)\n",
    "        ts['Gap'] = ts.loc[:, ts.columns.str.contains('Day_lag')].apply(lambda x: len(set(x)) > 1, axis=1)\n",
    "        ts = ts[ts.Gap == False]\n",
    "        ts = ts.drop('Gap', axis=1)\n",
    "        ts = ts.drop(ts.columns[ts.columns.str.contains('Day_lag')], axis=1)\n",
    "\n",
    "        return ts\n",
    "\n",
    "    def process_ts(self, variables=['Open', 'High', 'Low', 'Close']):\n",
    "\n",
    "        print(f'Processing time series with init shape of {self.raw_ts.shape}')\n",
    "        processed_ts = self.raw_ts.sort_values(by=['Date'], ascending=True).copy()\n",
    "\n",
    "        for lag in range(1, self.candles + 1):\n",
    "            processed_ts[f'Date_lag_{lag}'] = processed_ts['Date'].shift(lag)\n",
    "            processed_ts[f'Day_lag_{lag}'] = processed_ts['Date'].dt.day.shift(lag)\n",
    "            \n",
    "            for var in variables:\n",
    "                processed_ts[f'{var}_lag_{lag}'] = processed_ts[var].shift(lag)\n",
    "\n",
    "\n",
    "        processed_ts = self.treat_candle_gaps(processed_ts)\n",
    "        processed_ts = processed_ts.reset_index(drop=True)\n",
    "        processed_ts['takeprofit'] = self.create_output(processed_ts, window=self.expiration, stoploss=self.stoploss, takeprofit=self.takeprofit)\n",
    "    \n",
    "        self.processed_ts = processed_ts.dropna(axis=0).reset_index(drop=True)\n",
    "        self.processed_ts = self.processed_ts.set_index('Date')\n",
    "        \n",
    "        print(f'TS was processed and now has the final shape of {self.processed_ts.shape}')\n",
    "        \n",
    "    def train_test_split_ts(self, test_size=.2):\n",
    "        if not self.processed_ts.empty:\n",
    "            cut_index = self.processed_ts.shape[0]\n",
    "            cut_index = int(cut_index*(1-test_size))\n",
    "            self.train_ts = self.processed_ts[0:cut_index][self.processed_ts.columns[~self.processed_ts.columns.str.contains(f'Date_lag_*')]]\n",
    "            self.test_ts = self.processed_ts[cut_index:][self.processed_ts.columns[~self.processed_ts.columns.str.contains(f'Date_lag_*')]]\n",
    "        else:\n",
    "            print('TS was not processed please call process_ts first!!!')\n",
    "            \n",
    "bot = Bot(df, candles=5, expiration=5, stoploss=0.001, takeprofit=0.002)\n",
    "bot.process_ts()"
   ]
  },
  {
   "cell_type": "code",
   "execution_count": 6,
   "metadata": {
    "ExecuteTime": {
     "end_time": "2021-02-28T23:33:57.857406Z",
     "start_time": "2021-02-28T23:33:57.598899Z"
    }
   },
   "outputs": [],
   "source": [
    "bot.train_test_split_ts()"
   ]
  },
  {
   "cell_type": "code",
   "execution_count": 8,
   "metadata": {
    "ExecuteTime": {
     "end_time": "2021-02-28T23:34:21.712803Z",
     "start_time": "2021-02-28T23:34:21.432511Z"
    },
    "code_folding": [],
    "scrolled": false
   },
   "outputs": [
    {
     "ename": "AttributeError",
     "evalue": "'DataFrame' object has no attribute 'takepredict'",
     "output_type": "error",
     "traceback": [
      "\u001b[1;31m---------------------------------------------------------------------------\u001b[0m",
      "\u001b[1;31mAttributeError\u001b[0m                            Traceback (most recent call last)",
      "\u001b[1;32m<ipython-input-8-9cc2a6c1c00c>\u001b[0m in \u001b[0;36m<module>\u001b[1;34m\u001b[0m\n\u001b[0;32m     51\u001b[0m \u001b[1;31m#     input_ = plot_ts.iloc[x:x+bot.expiration, :]\u001b[0m\u001b[1;33m\u001b[0m\u001b[1;33m\u001b[0m\u001b[1;33m\u001b[0m\u001b[0m\n\u001b[0;32m     52\u001b[0m \u001b[1;31m#     to_plot = plot_input(input_)\u001b[0m\u001b[1;33m\u001b[0m\u001b[1;33m\u001b[0m\u001b[1;33m\u001b[0m\u001b[0m\n\u001b[1;32m---> 53\u001b[1;33m \u001b[0mx\u001b[0m \u001b[1;33m=\u001b[0m \u001b[0mrandom\u001b[0m\u001b[1;33m.\u001b[0m\u001b[0mrandint\u001b[0m\u001b[1;33m(\u001b[0m\u001b[1;36m0\u001b[0m\u001b[1;33m,\u001b[0m \u001b[0mbot\u001b[0m\u001b[1;33m.\u001b[0m\u001b[0mtest_ts\u001b[0m\u001b[1;33m[\u001b[0m\u001b[0mbot\u001b[0m\u001b[1;33m.\u001b[0m\u001b[0mtest_ts\u001b[0m\u001b[1;33m.\u001b[0m\u001b[0mtakepredict\u001b[0m\u001b[1;33m==\u001b[0m\u001b[1;36m1\u001b[0m\u001b[1;33m]\u001b[0m\u001b[1;33m.\u001b[0m\u001b[0mshape\u001b[0m\u001b[1;33m[\u001b[0m\u001b[1;36m0\u001b[0m\u001b[1;33m]\u001b[0m\u001b[1;33m)\u001b[0m\u001b[1;33m\u001b[0m\u001b[1;33m\u001b[0m\u001b[0m\n\u001b[0m\u001b[0;32m     54\u001b[0m \u001b[0minp\u001b[0m \u001b[1;33m=\u001b[0m \u001b[0mbot\u001b[0m\u001b[1;33m.\u001b[0m\u001b[0mtest_ts\u001b[0m\u001b[1;33m[\u001b[0m\u001b[0mbot\u001b[0m\u001b[1;33m.\u001b[0m\u001b[0mtest_ts\u001b[0m\u001b[1;33m.\u001b[0m\u001b[0mtakepredict\u001b[0m\u001b[1;33m==\u001b[0m\u001b[1;36m1\u001b[0m\u001b[1;33m]\u001b[0m\u001b[1;33m.\u001b[0m\u001b[0mreset_index\u001b[0m\u001b[1;33m(\u001b[0m\u001b[1;33m)\u001b[0m\u001b[1;33m.\u001b[0m\u001b[0mDate\u001b[0m\u001b[1;33m.\u001b[0m\u001b[0miloc\u001b[0m\u001b[1;33m[\u001b[0m\u001b[0mx\u001b[0m\u001b[1;33m]\u001b[0m\u001b[1;33m\u001b[0m\u001b[1;33m\u001b[0m\u001b[0m\n\u001b[0;32m     55\u001b[0m \u001b[0minp\u001b[0m \u001b[1;33m=\u001b[0m \u001b[0mbot\u001b[0m\u001b[1;33m.\u001b[0m\u001b[0mprocessed_ts\u001b[0m\u001b[1;33m.\u001b[0m\u001b[0mloc\u001b[0m\u001b[1;33m[\u001b[0m\u001b[0minp\u001b[0m\u001b[1;33m]\u001b[0m\u001b[1;33m\u001b[0m\u001b[1;33m\u001b[0m\u001b[0m\n",
      "\u001b[1;32m~\\anaconda3\\lib\\site-packages\\pandas\\core\\generic.py\u001b[0m in \u001b[0;36m__getattr__\u001b[1;34m(self, name)\u001b[0m\n\u001b[0;32m   5460\u001b[0m             \u001b[1;32mif\u001b[0m \u001b[0mself\u001b[0m\u001b[1;33m.\u001b[0m\u001b[0m_info_axis\u001b[0m\u001b[1;33m.\u001b[0m\u001b[0m_can_hold_identifiers_and_holds_name\u001b[0m\u001b[1;33m(\u001b[0m\u001b[0mname\u001b[0m\u001b[1;33m)\u001b[0m\u001b[1;33m:\u001b[0m\u001b[1;33m\u001b[0m\u001b[1;33m\u001b[0m\u001b[0m\n\u001b[0;32m   5461\u001b[0m                 \u001b[1;32mreturn\u001b[0m \u001b[0mself\u001b[0m\u001b[1;33m[\u001b[0m\u001b[0mname\u001b[0m\u001b[1;33m]\u001b[0m\u001b[1;33m\u001b[0m\u001b[1;33m\u001b[0m\u001b[0m\n\u001b[1;32m-> 5462\u001b[1;33m             \u001b[1;32mreturn\u001b[0m \u001b[0mobject\u001b[0m\u001b[1;33m.\u001b[0m\u001b[0m__getattribute__\u001b[0m\u001b[1;33m(\u001b[0m\u001b[0mself\u001b[0m\u001b[1;33m,\u001b[0m \u001b[0mname\u001b[0m\u001b[1;33m)\u001b[0m\u001b[1;33m\u001b[0m\u001b[1;33m\u001b[0m\u001b[0m\n\u001b[0m\u001b[0;32m   5463\u001b[0m \u001b[1;33m\u001b[0m\u001b[0m\n\u001b[0;32m   5464\u001b[0m     \u001b[1;32mdef\u001b[0m \u001b[0m__setattr__\u001b[0m\u001b[1;33m(\u001b[0m\u001b[0mself\u001b[0m\u001b[1;33m,\u001b[0m \u001b[0mname\u001b[0m\u001b[1;33m:\u001b[0m \u001b[0mstr\u001b[0m\u001b[1;33m,\u001b[0m \u001b[0mvalue\u001b[0m\u001b[1;33m)\u001b[0m \u001b[1;33m->\u001b[0m \u001b[1;32mNone\u001b[0m\u001b[1;33m:\u001b[0m\u001b[1;33m\u001b[0m\u001b[1;33m\u001b[0m\u001b[0m\n",
      "\u001b[1;31mAttributeError\u001b[0m: 'DataFrame' object has no attribute 'takepredict'"
     ]
    }
   ],
   "source": [
    "def plot_input(first, takepredict=None, variables=['Date', 'Open', 'High', 'Low', 'Close']):\n",
    "    future = bot.raw_ts.set_index('Date')[first.reset_index().Date.unique()[0]:].iloc[1:bot.expiration].reset_index()\n",
    "    \n",
    "    lagged = pd.DataFrame()\n",
    "    for lag in range(1, bot.candles+1):\n",
    "        lag_obs = first[first.columns[first.columns.str.contains(f'_lag_{lag}$')]].copy()\n",
    "        lag_obs.columns = lag_obs.columns.str.rstrip(f'_lag_{lag}$')\n",
    "        lagged = lagged.append(lag_obs, sort=False, ignore_index=True)\n",
    "    \n",
    "    \n",
    "    first_candle = first.reset_index()[variables + ['takeprofit']]\n",
    "    \n",
    "    to_plot = pd.concat([first_candle, lagged, future], ignore_index=True, sort=False)\n",
    "    to_plot = to_plot.sort_values(by='Date') \n",
    "    to_plot.index = to_plot.Date\n",
    "    to_plot[['Open', 'High', 'Low', 'Close']] = to_plot[['Open', 'High', 'Low', 'Close']].astype(float)\n",
    "    \n",
    "    #apd  = fplt.make_addplot(df_tkp_stp[df_tkp_stp.Date.between('2021-02-10 10:00:00', '2021-02-10 14:00:00')][['Take_Profit', 'Stop_Loss']])\n",
    "    buy_time = to_plot[to_plot.takeprofit.notna()].Date.values[0]\n",
    "    takeprofit = to_plot[to_plot.takeprofit.notna()].takeprofit.values[0]\n",
    "    last_candle = to_plot.Date.min()\n",
    "    open_price = to_plot[to_plot.takeprofit.notna()].Open.values[0]\n",
    "    tkp_stp = open_price*(1 + bot.takeprofit), open_price*(1 - bot.stoploss), open_price\n",
    "    \n",
    "    title = f'Should take profit? {\"Yes\" if takeprofit==1 else \"No\"}'\n",
    "    \n",
    "    if takepredict != None:\n",
    "        title = f'{title} : Predicted: {\"Yes\" if takepredict==1 else \"No\"}'\n",
    "        \n",
    "    fig, axes = fplt.plot(\n",
    "                to_plot,\n",
    "                type='candle',\n",
    "                style='charles',\n",
    "                title=title,\n",
    "                ylabel='Price',\n",
    "                figratio=(12,7),\n",
    "                #addplot=apd,\n",
    "                returnfig=True,\n",
    "                show_nontrading=True,\n",
    "                hlines=dict(hlines=tkp_stp, colors=['g','r', 'b'], linestyle='-.')\n",
    "                )\n",
    "\n",
    "    axes[0].axvspan(date2num(last_candle), date2num(buy_time), \n",
    "              label=f\"Profundidades de candles = {bot.candles} \",color=\"b\", alpha=0.3)\n",
    "    axes[0].legend()\n",
    "    \n",
    "# plot_ts = bot.raw_ts.merge(bot.processed_ts.reset_index(), how='left').set_index('Date').copy()\n",
    "\n",
    "# x = random.randint(0, plot_ts.shape[0])\n",
    "# if plot_ts.iloc[x, -1] != np.nan:\n",
    "#     input_ = plot_ts.iloc[x:x+bot.expiration, :]\n",
    "#     to_plot = plot_input(input_)\n",
    "x = random.randint(0, test_ts[test_ts.takepredict==1].shape[0])\n",
    "inp = test_ts[test_ts.takepredict==1].reset_index().Date.iloc[x]\n",
    "inp = bot.processed_ts.loc[inp]\n",
    "inp = inp.to_frame().T\n",
    "inp.index.name = 'Date'\n",
    "inp = inp.reset_index()\n",
    "takepredict = test_ts[test_ts.takepredict==1].takepredict.iloc[x]\n",
    "plot_input(inp, takepredict=takepredict)"
   ]
  },
  {
   "cell_type": "code",
   "execution_count": 9,
   "metadata": {
    "ExecuteTime": {
     "end_time": "2021-02-28T23:34:34.855617Z",
     "start_time": "2021-02-28T23:34:34.576403Z"
    }
   },
   "outputs": [],
   "source": [
    "# Models and param grids to use on GridSearch\n",
    "models = [{'name': 'xgboost', 'label': 'XGBoost',\n",
    "           'classifier': XGBClassifier(random_state=42, use_label_encoder=False),\n",
    "           'grid':{\n",
    "               'clf__min_child_weight': [1, 5, 10],\n",
    "               'clf__gamma': [0.5, 1, 1.5, 2, 5],\n",
    "               'clf__subsample': [0.6, 0.8, 1.0],\n",
    "               'clf__colsample_bytree': [0.6, 0.8, 1.0],\n",
    "               'clf__max_depth': [3, 4, 5],\n",
    "               'clf__objective': ['binary:logistic']\n",
    "           }}, ]"
   ]
  },
  {
   "cell_type": "code",
   "execution_count": null,
   "metadata": {
    "ExecuteTime": {
     "end_time": "2021-02-28T19:22:21.636164Z",
     "start_time": "2021-02-28T19:12:30.381249Z"
    },
    "code_folding": [
     0
    ]
   },
   "outputs": [],
   "source": [
    "def model_selection(classifier, name, grid, train_ts, test_ts,\n",
    "                    scoring, cv=TimeSeriesSplit(n_splits=5), n_jobs=-1):\n",
    "    \n",
    "    y_train = train_ts.takeprofit.values.astype(int)\n",
    "    X_train = train_ts.drop(['takeprofit'], axis=1).copy()\n",
    "\n",
    "    y_test = test_ts.takeprofit.values.astype(int)\n",
    "    X_test = test_ts.drop(['takeprofit'], axis=1).copy()\n",
    "    \n",
    "    # Oversampling with smote\n",
    "    smote = SMOTE(random_state=42)\n",
    "    # Pipeline, every fold does as sampling\n",
    "    pipeline = Pipeline([('sampling', smote), ('clf', classifier)])\n",
    "    #pipeline = Pipeline([('clf', classifier)])\n",
    "    \n",
    "    # GridSearch init\n",
    "    gridsearch_cv=RandomizedSearchCV(pipeline, \n",
    "                               grid,\n",
    "                               cv=cv, \n",
    "                               scoring=scoring, \n",
    "                               n_jobs=n_jobs, \n",
    "                               verbose=1, random_state=42, n_iter=25)\n",
    "    \n",
    "    gridsearch_cv.fit(X_train, y_train)\n",
    "    \n",
    "    # Creates the results dataframe\n",
    "    results_dict = {}\n",
    "    results_dict['classifier_name'] = name    \n",
    "    results_dict['classifier'] = gridsearch_cv.best_estimator_\n",
    "    results_dict['best_params'] = gridsearch_cv.best_params_\n",
    "    results_dict['ROC_AUC_TRAIN'] = gridsearch_cv.best_score_\n",
    "    \n",
    "    # Compute the ROC_AUC score in the never seen test test\n",
    "    y_pred = gridsearch_cv.best_estimator_.predict(X_test)\n",
    "    results_dict['ROC_AUC_TEST'] = roc_auc_score(y_test, y_pred)\n",
    "    \n",
    "    return(results_dict)\n",
    "\n",
    "results = []\n",
    "for m in models:    \n",
    "    results.append(model_selection(m['classifier'], \n",
    "                                   m['name'],\n",
    "                                   m['grid'],\n",
    "                                   bot.train_ts, \n",
    "                                   bot.test_ts,\n",
    "                                   'roc_auc'))\n",
    "    \n",
    "results = pd.DataFrame.from_dict(results)\n",
    "results"
   ]
  },
  {
   "cell_type": "code",
   "execution_count": 10,
   "metadata": {
    "ExecuteTime": {
     "end_time": "2021-02-28T23:34:41.140518Z",
     "start_time": "2021-02-28T23:34:39.415137Z"
    }
   },
   "outputs": [],
   "source": [
    "from sktime.utils.data_processing import from_2d_array_to_nested\n",
    "from sklearn.model_selection import train_test_split\n",
    "from sklearn.pipeline import Pipeline\n",
    "from sktime.forecasting.model_selection import temporal_train_test_split\n",
    "\n",
    "from sktime.classification.compose import (\n",
    "    ColumnEnsembleClassifier,\n",
    "    TimeSeriesForestClassifier,\n",
    ")\n",
    "from sktime.classification.dictionary_based import BOSSEnsemble\n",
    "from sktime.classification.shapelet_based import MrSEQLClassifier\n",
    "from sktime.datasets import load_basic_motions\n",
    "from sktime.transformations.panel.compose import ColumnConcatenator"
   ]
  },
  {
   "cell_type": "code",
   "execution_count": 11,
   "metadata": {
    "ExecuteTime": {
     "end_time": "2021-02-28T23:34:41.421079Z",
     "start_time": "2021-02-28T23:34:41.144442Z"
    }
   },
   "outputs": [],
   "source": [
    "from sktime.transformations.panel.tsfresh import TSFreshRelevantFeatureExtractor"
   ]
  },
  {
   "cell_type": "code",
   "execution_count": 12,
   "metadata": {
    "ExecuteTime": {
     "end_time": "2021-02-28T23:34:53.482929Z",
     "start_time": "2021-02-28T23:34:41.782440Z"
    }
   },
   "outputs": [],
   "source": [
    "X = from_2d_array_to_nested(bot.train_ts[bot.train_ts.columns.difference(['takeprofit'])])\n",
    "y = bot.train_ts.takeprofit"
   ]
  },
  {
   "cell_type": "code",
   "execution_count": 13,
   "metadata": {
    "ExecuteTime": {
     "end_time": "2021-02-28T23:34:53.748481Z",
     "start_time": "2021-02-28T23:34:53.486134Z"
    }
   },
   "outputs": [
    {
     "name": "stdout",
     "output_type": "stream",
     "text": [
      "(55571, 1) (55571,) (18524, 1) (18524,)\n"
     ]
    }
   ],
   "source": [
    "X_train, X_test, y_train, y_test = temporal_train_test_split(X, y)\n",
    "print(X_train.shape, y_train.shape, X_test.shape, y_test.shape)\n",
    "y_train = y_train.reset_index(drop=True)\n",
    "y_test = y_test.reset_index(drop=True)"
   ]
  },
  {
   "cell_type": "code",
   "execution_count": null,
   "metadata": {
    "ExecuteTime": {
     "end_time": "2021-02-28T23:27:48.692571Z",
     "start_time": "2021-02-28T23:26:06.802339Z"
    }
   },
   "outputs": [],
   "source": [
    "steps = [\n",
    "    #(\"tsfresh\", TSFreshRelevantFeatureExtractor(n_jobs=os.cpu_count())),\n",
    "    (\"concatenate\", ColumnConcatenator()),\n",
    "    (\"classify\", TimeSeriesForestClassifier(n_estimators=100, n_jobs=os.cpu_count())),\n",
    "]\n",
    "clf = Pipeline(steps)\n",
    "clf.fit(X_train, y_train)\n",
    "clf.score(X_test, y_test)"
   ]
  },
  {
   "cell_type": "code",
   "execution_count": 14,
   "metadata": {
    "ExecuteTime": {
     "end_time": "2021-02-28T23:38:26.498098Z",
     "start_time": "2021-02-28T23:35:13.182415Z"
    }
   },
   "outputs": [
    {
     "ename": "KeyboardInterrupt",
     "evalue": "",
     "output_type": "error",
     "traceback": [
      "\u001b[1;31m---------------------------------------------------------------------------\u001b[0m",
      "\u001b[1;31mKeyboardInterrupt\u001b[0m                         Traceback (most recent call last)",
      "\u001b[1;32m<ipython-input-14-5c2ab604b5f1>\u001b[0m in \u001b[0;36m<module>\u001b[1;34m\u001b[0m\n\u001b[0;32m      1\u001b[0m \u001b[0mclf\u001b[0m \u001b[1;33m=\u001b[0m \u001b[0mMrSEQLClassifier\u001b[0m\u001b[1;33m(\u001b[0m\u001b[1;33m)\u001b[0m\u001b[1;33m\u001b[0m\u001b[1;33m\u001b[0m\u001b[0m\n\u001b[1;32m----> 2\u001b[1;33m \u001b[0mclf\u001b[0m\u001b[1;33m.\u001b[0m\u001b[0mfit\u001b[0m\u001b[1;33m(\u001b[0m\u001b[0mX_train\u001b[0m\u001b[1;33m,\u001b[0m \u001b[0my_train\u001b[0m\u001b[1;33m)\u001b[0m\u001b[1;33m\u001b[0m\u001b[1;33m\u001b[0m\u001b[0m\n\u001b[0m\u001b[0;32m      3\u001b[0m \u001b[0mclf\u001b[0m\u001b[1;33m.\u001b[0m\u001b[0mscore\u001b[0m\u001b[1;33m(\u001b[0m\u001b[0mX_test\u001b[0m\u001b[1;33m,\u001b[0m \u001b[0my_test\u001b[0m\u001b[1;33m)\u001b[0m\u001b[1;33m\u001b[0m\u001b[1;33m\u001b[0m\u001b[0m\n",
      "\u001b[1;32msktime\\classification\\shapelet_based\\mrseql\\mrseql.pyx\u001b[0m in \u001b[0;36msktime.classification.shapelet_based.mrseql.mrseql.MrSEQLClassifier.fit\u001b[1;34m()\u001b[0m\n",
      "\u001b[1;32msktime\\classification\\shapelet_based\\mrseql\\mrseql.pyx\u001b[0m in \u001b[0;36msktime.classification.shapelet_based.mrseql.mrseql.MrSEQLClassifier._to_feature_space\u001b[1;34m()\u001b[0m\n",
      "\u001b[1;32m<__array_function__ internals>\u001b[0m in \u001b[0;36mhstack\u001b[1;34m(*args, **kwargs)\u001b[0m\n",
      "\u001b[1;31mKeyboardInterrupt\u001b[0m: "
     ]
    }
   ],
   "source": [
    "clf = MrSEQLClassifier(n_jobs=os.cpu_count())\n",
    "clf.fit(X_train, y_train)\n",
    "clf.score(X_test, y_test)"
   ]
  },
  {
   "cell_type": "code",
   "execution_count": null,
   "metadata": {
    "ExecuteTime": {
     "end_time": "2021-02-28T22:48:53.164421Z",
     "start_time": "2021-02-28T22:48:52.480966Z"
    }
   },
   "outputs": [],
   "source": [
    "X = from_2d_array_to_nested(bot.test_ts[bot.test_ts.columns.difference(['takeprofit'])])\n",
    "y = bot.test_ts.takeprofit"
   ]
  },
  {
   "cell_type": "code",
   "execution_count": null,
   "metadata": {
    "ExecuteTime": {
     "end_time": "2021-02-28T20:38:07.634203Z",
     "start_time": "2021-02-28T20:38:04.254337Z"
    }
   },
   "outputs": [],
   "source": [
    "clf.score(X, y)"
   ]
  },
  {
   "cell_type": "code",
   "execution_count": null,
   "metadata": {
    "ExecuteTime": {
     "end_time": "2021-02-28T22:51:06.626804Z",
     "start_time": "2021-02-28T22:50:56.710554Z"
    }
   },
   "outputs": [],
   "source": [
    "y_out = clf.predict(X)"
   ]
  },
  {
   "cell_type": "code",
   "execution_count": null,
   "metadata": {
    "ExecuteTime": {
     "end_time": "2021-02-28T22:51:07.021644Z",
     "start_time": "2021-02-28T22:51:06.635499Z"
    }
   },
   "outputs": [],
   "source": [
    "test_ts = bot.test_ts.copy()\n",
    "test_ts['takepredict'] = y_out"
   ]
  },
  {
   "cell_type": "code",
   "execution_count": null,
   "metadata": {
    "ExecuteTime": {
     "end_time": "2021-02-28T22:52:48.685203Z",
     "start_time": "2021-02-28T22:52:48.331872Z"
    }
   },
   "outputs": [],
   "source": []
  },
  {
   "cell_type": "code",
   "execution_count": null,
   "metadata": {
    "ExecuteTime": {
     "end_time": "2021-02-28T22:54:24.572198Z",
     "start_time": "2021-02-28T22:54:24.158557Z"
    }
   },
   "outputs": [],
   "source": []
  }
 ],
 "metadata": {
  "kernelspec": {
   "display_name": "Python 3",
   "language": "python",
   "name": "python3"
  },
  "language_info": {
   "codemirror_mode": {
    "name": "ipython",
    "version": 3
   },
   "file_extension": ".py",
   "mimetype": "text/x-python",
   "name": "python",
   "nbconvert_exporter": "python",
   "pygments_lexer": "ipython3",
   "version": "3.8.3"
  },
  "latex_envs": {
   "LaTeX_envs_menu_present": true,
   "autoclose": false,
   "autocomplete": true,
   "bibliofile": "biblio.bib",
   "cite_by": "apalike",
   "current_citInitial": 1,
   "eqLabelWithNumbers": true,
   "eqNumInitial": 1,
   "hotkeys": {
    "equation": "Ctrl-E",
    "itemize": "Ctrl-I"
   },
   "labels_anchors": false,
   "latex_user_defs": false,
   "report_style_numbering": false,
   "user_envs_cfg": false
  },
  "toc": {
   "base_numbering": 1,
   "nav_menu": {},
   "number_sections": true,
   "sideBar": true,
   "skip_h1_title": false,
   "title_cell": "Table of Contents",
   "title_sidebar": "Contents",
   "toc_cell": false,
   "toc_position": {},
   "toc_section_display": true,
   "toc_window_display": false
  }
 },
 "nbformat": 4,
 "nbformat_minor": 4
}
