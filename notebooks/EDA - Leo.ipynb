{
 "cells": [
  {
   "cell_type": "code",
   "execution_count": 1,
   "metadata": {
    "ExecuteTime": {
     "end_time": "2021-02-21T17:38:17.598983Z",
     "start_time": "2021-02-21T17:38:17.544687Z"
    }
   },
   "outputs": [],
   "source": [
    "%load_ext autoreload\n",
    "%autoreload 2"
   ]
  },
  {
   "cell_type": "code",
   "execution_count": 49,
   "metadata": {
    "ExecuteTime": {
     "end_time": "2021-02-21T18:00:50.415361Z",
     "start_time": "2021-02-21T18:00:50.250910Z"
    }
   },
   "outputs": [],
   "source": [
    "import shap\n",
    "import random\n",
    "import datetime\n",
    "import numpy as np\n",
    "import pandas as pd  \n",
    "import seaborn as sns\n",
    "from sklearn.svm import SVC\n",
    "from math import floor, ceil\n",
    "import seaborn as sns  # for prettier plots\n",
    "import matplotlib.style as style\n",
    "import matplotlib.pyplot as plt\n",
    "import mplfinance as fplt\n",
    "import matplotlib.dates as mdates\n",
    "from itertools import combinations\n",
    "from imblearn.pipeline import Pipeline\n",
    "from imblearn.over_sampling import SMOTE\n",
    "from sklearn.metrics import silhouette_score, roc_auc_score\n",
    "from sklearn.preprocessing import StandardScaler, PowerTransformer\n",
    "from sklearn.metrics import plot_confusion_matrix, classification_report, plot_precision_recall_curve\n",
    "from sklearn.model_selection import train_test_split, GridSearchCV, train_test_split, cross_val_score, StratifiedKFold\n",
    "\n",
    "from datetime import datetime\n",
    "from matplotlib.dates import date2num\n",
    "from collections import namedtuple\n",
    "from neuralprophet import NeuralProphet, set_log_level\n",
    "set_log_level(\"ERROR\")"
   ]
  },
  {
   "cell_type": "code",
   "execution_count": 3,
   "metadata": {
    "ExecuteTime": {
     "end_time": "2021-02-21T17:38:41.180642Z",
     "start_time": "2021-02-21T17:38:41.027830Z"
    }
   },
   "outputs": [],
   "source": [
    "plt.style.use('fivethirtyeight')\n",
    "plt.rcParams.update({'figure.figsize': (12, 6)})"
   ]
  },
  {
   "cell_type": "code",
   "execution_count": 36,
   "metadata": {
    "ExecuteTime": {
     "end_time": "2021-02-21T14:34:38.478721Z",
     "start_time": "2021-02-21T14:34:37.512120Z"
    }
   },
   "outputs": [],
   "source": [
    "# Formatting crap data\n",
    "# df = pd.read_csv('../data/WIN$NM5_FORMATTED.csv', sep=',', header=0, names=['raw'])#header=0, names=['data', 'open', 'high', 'low', 'close'])\n",
    "# df[['data', 'open', 'high', 'low', 'close']] = df.raw.str.split(',', expand=True)[range(0, 5)]\n",
    "# df[['data', 'open', 'high', 'low', 'close']].to_csv('../data/WIN$NM5_DF.csv', index=False)"
   ]
  },
  {
   "cell_type": "code",
   "execution_count": 4,
   "metadata": {
    "ExecuteTime": {
     "end_time": "2021-02-21T17:38:41.506039Z",
     "start_time": "2021-02-21T17:38:41.182583Z"
    }
   },
   "outputs": [],
   "source": [
    "df = pd.read_csv('../data/WIN$NM5_DF.csv', parse_dates=['Date'], header=0, names=['Date', 'Open', 'High', 'Low', 'Close'])"
   ]
  },
  {
   "cell_type": "code",
   "execution_count": 5,
   "metadata": {
    "ExecuteTime": {
     "end_time": "2021-02-21T17:38:47.184592Z",
     "start_time": "2021-02-21T17:38:47.024753Z"
    }
   },
   "outputs": [],
   "source": [
    "df.index = df.Date"
   ]
  },
  {
   "cell_type": "code",
   "execution_count": 15,
   "metadata": {
    "ExecuteTime": {
     "end_time": "2021-02-21T17:41:39.293495Z",
     "start_time": "2021-02-21T17:41:39.144894Z"
    }
   },
   "outputs": [],
   "source": [
    "df_tkp_stp = df[['Open']].copy()"
   ]
  },
  {
   "cell_type": "code",
   "execution_count": 128,
   "metadata": {
    "ExecuteTime": {
     "end_time": "2021-02-21T18:35:17.712591Z",
     "start_time": "2021-02-21T18:35:17.554778Z"
    }
   },
   "outputs": [],
   "source": [
    "def take_profit_stop_loss_perc(x, tkp=.02, stp=.01):\n",
    "    return [x*(1+tkp), x*(1-stp)]\n",
    "\n",
    "def take_profit_stop_loss_abs(x, tkp=20, stp=10):\n",
    "    return [x + tkp, x -stp]"
   ]
  },
  {
   "cell_type": "code",
   "execution_count": 129,
   "metadata": {
    "ExecuteTime": {
     "end_time": "2021-02-21T18:35:29.725379Z",
     "start_time": "2021-02-21T18:35:29.574744Z"
    }
   },
   "outputs": [
    {
     "data": {
      "text/plain": [
       "([118385.0, 118355.0], 118365.0)"
      ]
     },
     "execution_count": 129,
     "metadata": {},
     "output_type": "execute_result"
    }
   ],
   "source": [
    "take_profit_stop_loss_abs(df[df.index=='2021-02-02 16:50:00'].Open.values[0]), df[df.index=='2021-02-02 16:50:00'].Open.values[0]"
   ]
  },
  {
   "cell_type": "code",
   "execution_count": 130,
   "metadata": {
    "ExecuteTime": {
     "end_time": "2021-02-21T18:35:35.126612Z",
     "start_time": "2021-02-21T18:35:34.974947Z"
    }
   },
   "outputs": [],
   "source": [
    "tick_size = 5"
   ]
  },
  {
   "cell_type": "code",
   "execution_count": 115,
   "metadata": {
    "ExecuteTime": {
     "end_time": "2021-02-21T18:30:37.883091Z",
     "start_time": "2021-02-21T18:30:37.727609Z"
    }
   },
   "outputs": [],
   "source": [
    "df_sample = df[df.Date.between('2021-02-02 16:00:00', '2021-02-02 18:00:00')].copy()"
   ]
  },
  {
   "cell_type": "code",
   "execution_count": 123,
   "metadata": {
    "ExecuteTime": {
     "end_time": "2021-02-21T18:33:26.750485Z",
     "start_time": "2021-02-21T18:33:26.590577Z"
    }
   },
   "outputs": [],
   "source": [
    "df_sample = (df_sample[df_sample.columns.difference(['Date'])] - df_sample.Low.min())/tick_size"
   ]
  },
  {
   "cell_type": "code",
   "execution_count": 147,
   "metadata": {
    "ExecuteTime": {
     "end_time": "2021-02-21T18:53:02.028643Z",
     "start_time": "2021-02-21T18:53:01.833200Z"
    }
   },
   "outputs": [
    {
     "data": {
      "text/plain": [
       "[230.0, 60.0, 110.0]"
      ]
     },
     "execution_count": 147,
     "metadata": {},
     "output_type": "execute_result"
    }
   ],
   "source": [
    "tkp_stp = take_profit_stop_loss_abs(df_sample[df_sample.index=='2021-02-02 16:50:00'].Open.values[0], tkp=120, stp=50)\n",
    "tkp_stp = tkp_stp + df_sample[df_sample.index=='2021-02-02 16:50:00'].Open.values.tolist()\n",
    "tkp_stp"
   ]
  },
  {
   "cell_type": "code",
   "execution_count": 148,
   "metadata": {
    "ExecuteTime": {
     "end_time": "2021-02-21T18:53:02.825005Z",
     "start_time": "2021-02-21T18:53:02.465927Z"
    }
   },
   "outputs": [
    {
     "data": {
      "text/plain": [
       "<matplotlib.legend.Legend at 0x28b9efad970>"
      ]
     },
     "execution_count": 148,
     "metadata": {},
     "output_type": "execute_result"
    },
    {
     "data": {
      "image/png": "[encoded data removed]",
      "text/plain": [
       "<Figure size 985.714x575 with 2 Axes>"
      ]
     },
     "metadata": {},
     "output_type": "display_data"
    }
   ],
   "source": [
    "#apd  = fplt.make_addplot(df_tkp_stp[df_tkp_stp.Date.between('2021-02-10 10:00:00', '2021-02-10 14:00:00')][['Take_Profit', 'Stop_Loss']])\n",
    "fig, axes = fplt.plot(\n",
    "            df_sample,\n",
    "            type='candle',\n",
    "            style='charles',\n",
    "            title='WIN$5 Minutos',\n",
    "            ylabel='Ticks',\n",
    "            figratio=(12,7),\n",
    "            #addplot=apd,\n",
    "            returnfig=True,\n",
    "            show_nontrading=True,\n",
    "            hlines=dict(hlines=tkp_stp, colors=['g','r', 'b'], linestyle='-.')\n",
    "            )\n",
    "\n",
    "axes[0].axvspan(date2num(datetime.fromisoformat('2021-02-02 16:00:00')), date2num(datetime.fromisoformat('2021-02-02 16:50:00')), \n",
    "          label=\"N=10 profundidades\",color=\"b\", alpha=0.3)\n",
    "axes[0].legend()"
   ]
  }
 ],
 "metadata": {
  "kernelspec": {
   "display_name": "Python 3",
   "language": "python",
   "name": "python3"
  },
  "language_info": {
   "codemirror_mode": {
    "name": "ipython",
    "version": 3
   },
   "file_extension": ".py",
   "mimetype": "text/x-python",
   "name": "python",
   "nbconvert_exporter": "python",
   "pygments_lexer": "ipython3",
   "version": "3.8.3"
  },
  "latex_envs": {
   "LaTeX_envs_menu_present": true,
   "autoclose": false,
   "autocomplete": true,
   "bibliofile": "biblio.bib",
   "cite_by": "apalike",
   "current_citInitial": 1,
   "eqLabelWithNumbers": true,
   "eqNumInitial": 1,
   "hotkeys": {
    "equation": "Ctrl-E",
    "itemize": "Ctrl-I"
   },
   "labels_anchors": false,
   "latex_user_defs": false,
   "report_style_numbering": false,
   "user_envs_cfg": false
  },
  "toc": {
   "base_numbering": 1,
   "nav_menu": {},
   "number_sections": true,
   "sideBar": true,
   "skip_h1_title": false,
   "title_cell": "Table of Contents",
   "title_sidebar": "Contents",
   "toc_cell": false,
   "toc_position": {},
   "toc_section_display": true,
   "toc_window_display": false
  }
 },
 "nbformat": 4,
 "nbformat_minor": 4
}
